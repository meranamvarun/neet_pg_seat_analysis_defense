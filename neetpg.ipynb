{
 "cells": [
  {
   "cell_type": "markdown",
   "id": "cd32eb7e",
   "metadata": {},
   "source": [
    "# Rank Distribution Analysis\n",
    "\n",
    "## Introduction\n",
    "\n",
    "In this notebook, we will explore the distribution of ranks across various institutes and years based on the provided dataset. Our primary objectives are:\n",
    "\n",
    "1. **Analyze Rank Distribution**: We will examine how ranks are distributed among different institutes for each year. This includes understanding the frequency of each rank and its representation across institutes.\n",
    "\n",
    "2. **Visualize Data**: To gain insights into the rank distribution, we will create visual representations using pie charts. These charts will illustrate the proportion of each rank within individual institutes, making it easier to interpret the data.\n",
    "\n",
    "3. **Handle Special Cases**: We will address scenarios where one rank might dominate the pie chart, ensuring that the visualization remains informative. We will implement a threshold to exclude very small segments from the pie chart labels for clarity.\n",
    "\n",
    "4. **Provide Insights**: Based on our analysis, we will derive insights about the distribution patterns and how ranks vary across institutes and years.\n",
    "\n",
    "The dataset used in this analysis includes the following columns:\n",
    "- **AFMS Merit**: The merit number assigned to the candidate.\n",
    "- **RANK**: The rank of the candidate.\n",
    "- **NAME**: The name of the candidate.\n",
    "- **SUBJECT ALLOTTED**: The subject assigned to the candidate.\n",
    "- **INSTITUTE ALLOTTED**: The institute where the candidate is allotted.\n",
    "- **REMARKS**: Additional remarks, if any.\n",
    "- **year**: The year of the data.\n",
    "\n",
    "By the end of this notebook, we aim to provide a comprehensive overview of the rank distribution and visualize it effectively to aid in further analysis and decision-making.\n",
    "\n",
    "**Best of luck!**\n"
   ]
  },
  {
   "cell_type": "code",
   "execution_count": null,
   "id": "49c0953e",
   "metadata": {},
   "outputs": [],
   "source": [
    "import pandas as pd\n",
    "import matplotlib.pyplot as plt\n",
    "import seaborn as sns\n",
    "\n",
    "\n",
    "# Load the CSV file\n",
    "df = pd.read_csv('allocation.csv')\n",
    "df1 = pd.read_csv('allocation_2022.csv')\n",
    "\n",
    "# Clean the data (e.g., handle missing values)\n",
    "df['Ser No'] = pd.to_numeric(df['Ser No'], errors='coerce')\n",
    "df = df.dropna(subset=['Ser No'])\n",
    "\n",
    "# Clean the data (e.g., handle missing values)\n",
    "df1['AFMS Merit'] = pd.to_numeric(df1['AFMS Merit'], errors='coerce')\n",
    "df1 = df1.dropna(subset=['AFMS Merit'])\n",
    "\n",
    "df.columns = df1.columns\n",
    "df['year'] = 2023\n",
    "df1['year'] = 2022\n",
    "\n",
    "df = df.applymap(lambda x: x.strip() if isinstance(x, str) else x)\n",
    "df1 = df1.applymap(lambda x: x.strip() if isinstance(x, str) else x)\n",
    "\n",
    "mapping = {\n",
    "    'Anaesthesia': 'Anaesthesiology',\n",
    "    'DNB (Anaesthsia)': 'Anaesthesiology (DNB)',\n",
    "    'DNB (Dermatology)': 'Dermatology (DNB)',\n",
    "    'DNB (ENT)': 'ENT (DNB)',\n",
    "    'DNB (GEN SURG)': 'General Surgery (DNB)',\n",
    "    'DNB (Medicine)': 'General Medicine (DNB)',\n",
    "    'DNB (Nucl Med)': 'Nuclear Medicine (DNB)',\n",
    "    'DNB (Obs & Gynae)': 'OBG (DNB)',\n",
    "    'DNB (Ophthalmology)': 'Ophthalmology (DNB)',\n",
    "    'DNB (Orthopaedics)': 'Orthopaedics (DNB)',\n",
    "    'DNB (Pathology)': 'Pathology (DNB)',\n",
    "    'DNB (Psychiatry)': 'Psychiatry (DNB)',\n",
    "    'DNB (Radiodiagnosis)': 'Radiodiagnosis (DNB)',\n",
    "    'DNB (Radiotherapy)': 'Radiotherapy (DNB)',\n",
    "    'DNB Paediatrics': 'Paediatrics (DNB)',\n",
    "    'DNB Surgery': 'General Surgery (DNB)',\n",
    "    'Gen Surgery': 'General Surgery',\n",
    "    'Medicine': 'General Medicine',\n",
    "    'Obs & Gynae': 'OBG',\n",
    "    'Hosp Adm': 'Hospital Administration',\n",
    "    'Community Medicne': 'Community Medicine',\n",
    "    # Additional mappings to standardize\n",
    "    'DNB (Anaesthsia)': 'Anaesthesiology (DNB)',\n",
    "    'DNB (Dermatology)': 'Dermatology (DNB)',\n",
    "    'DNB (ENT)': 'ENT (DNB)',\n",
    "    'DNB (Radiodiagnosis)': 'Radiodiagnosis (DNB)',\n",
    "    'DNB (Radiotherapy)': 'Radiotherapy (DNB)',\n",
    "    'DNB (Pathology)': 'Pathology (DNB)',\n",
    "    'DNB (Psychiatry)': 'Psychiatry (DNB)',\n",
    "    'DNB Paediatrics': 'Paediatrics (DNB)',\n",
    "    'DNB Surgery': 'General Surgery (DNB)',\n",
    "    'DNB (GEN SURG)': 'General Surgery (DNB)',\n",
    "    'DNB (Nucl Med)': 'Nuclear Medicine (DNB)',\n",
    "    'DNB (Obs & Gynae)': 'OBG (DNB)',\n",
    "    'DNB (Ophthalmology)': 'Ophthalmology (DNB)',\n",
    "    'DNB (Orthopaedics)': 'Orthopaedics (DNB)',\n",
    "    'Gen Surgery': 'General Surgery',\n",
    "    'Medicine': 'General Medicine',\n",
    "    'Obs & Gynae': 'OBG',\n",
    "    'Hosp Adm': 'Hospital Administration',\n",
    "    'Community Medicne': 'Community Medicine'\n",
    "}\n",
    "\n",
    "clg_mapping = {\n",
    "    '7 AFH Kanpur': '7 AFH Kanpur',\n",
    "    '7AFH Kanpur': '7 AFH Kanpur',\n",
    "    'AFMC Pune': 'AFMC Pune',\n",
    "    'AH (R&R) Delhi': 'AH(R&R) New Delhi',\n",
    "    'BH Delhi Cantt': 'BHDC New Delhi',\n",
    "    'BHDC New Delhi': 'BHDC New Delhi',\n",
    "    'CH (AF) Bangalore': 'CHAF Bangalore',\n",
    "    'CHAF Bangalore': 'CHAF Bangalore',\n",
    "    'CH (CC) Lucknow': 'CH(CC) Lucknow',\n",
    "    'CH(CC) Lucknow' : 'CH(CC) Lucknow',\n",
    "    'CH (EC) Kolkata': 'CH(EC) Kolkata',\n",
    "    'CH(EC) Kolkata': 'CH(EC) Kolkata',\n",
    "    'CH (WC) Chandimandir': 'CH(WC) Chandimandir',\n",
    "    'CH(WC) Chandimandir': 'CH(WC) Chandimandir',\n",
    "    'IAM Bangalore': 'IAM Bangalore',\n",
    "    'INHS Asvini': 'INHS Asvini Mumbai',\n",
    "    'INHS Asvini Mumbai': 'INHS Asvini Mumbai',\n",
    "    'INM Mumbai': 'INHS Asvini Mumbai',\n",
    "    'INHS Asvini Mumbai': 'INHS Asvini Mumbai'\n",
    "}\n",
    "\n",
    "\n",
    "df1['SUBJECT ALLOTTED'] = df1['SUBJECT ALLOTTED'].replace(mapping)\n",
    "df1['INSTITUTE ALLOTTED'] = df1['INSTITUTE ALLOTTED'].replace(clg_mapping)\n",
    "df['INSTITUTE ALLOTTED'] = df['INSTITUTE ALLOTTED'].replace(clg_mapping)\n",
    "\n",
    "# Remove 'NEET Roll No' column from df\n",
    "df = df.drop(columns=['NEET Roll No'])\n",
    "\n",
    "# Remove 'NEET Roll No' column from df1\n",
    "df1 = df1.drop(columns=['NEET Roll No'])\n",
    "\n",
    "# Remove 'NEET Roll No' column from df\n",
    "df = df.drop(columns=['PERS NO'])\n",
    "\n",
    "# Remove 'NEET Roll No' column from df1\n",
    "df1 = df1.drop(columns=['PERS NO'])\n",
    "\n",
    "merged_df = pd.concat([df, df1], ignore_index=True)\n",
    "\n",
    "# Calculate the opening (min) and closing (max) rank for each institute for both years\n",
    "seat_summary = merged_df.groupby(['INSTITUTE ALLOTTED', 'year'])['AFMS Merit'].agg(['count']).reset_index()\n",
    "\n",
    "# Rename the columns for clarity\n",
    "seat_summary.columns = ['INSTITUTE ALLOTTED', 'Year', 'seats']"
   ]
  },
  {
   "cell_type": "markdown",
   "id": "cda1c056",
   "metadata": {},
   "source": [
    "# Institute Seat Count Overview\n",
    "\n",
    "## Summary of Seats in Each Institute"
   ]
  },
  {
   "cell_type": "code",
   "execution_count": null,
   "id": "9e6b62f6",
   "metadata": {},
   "outputs": [],
   "source": [
    "seat_summary"
   ]
  },
  {
   "cell_type": "code",
   "execution_count": null,
   "id": "5a983f39",
   "metadata": {},
   "outputs": [],
   "source": [
    "plt.figure(figsize=(14, 7))\n",
    "\n",
    "# Plot Opening Rank\n",
    "sns.barplot(data=seat_summary, x='INSTITUTE ALLOTTED', y='seats', hue='Year', palette='viridis', dodge=True)\n",
    "plt.title('No of seats by Institute and Year')\n",
    "plt.xticks(rotation=90)\n",
    "plt.xlabel('Institute')\n",
    "plt.ylabel('seats')\n",
    "plt.legend(title='Year')\n",
    "plt.tight_layout()\n",
    "plt.show()"
   ]
  },
  {
   "cell_type": "markdown",
   "id": "fb961776",
   "metadata": {},
   "source": [
    "# Institute Seat Count With Respect to Subhject Overview\n",
    "\n",
    "## Summary of Count of Seats WRT Subject in Each Institute"
   ]
  },
  {
   "cell_type": "code",
   "execution_count": null,
   "id": "34c232d2",
   "metadata": {
    "scrolled": false
   },
   "outputs": [],
   "source": [
    "# Group by 'INSTITUTE ALLOTTED', 'SUBJECT ALLOTTED', and 'year', then count occurrences\n",
    "seat_count = merged_df.groupby(['INSTITUTE ALLOTTED', 'SUBJECT ALLOTTED', 'year']).size().unstack(fill_value=0)\n",
    "\n"
   ]
  },
  {
   "cell_type": "code",
   "execution_count": null,
   "id": "5b679677",
   "metadata": {},
   "outputs": [],
   "source": [
    "seat_count"
   ]
  },
  {
   "cell_type": "code",
   "execution_count": null,
   "id": "bfc03572",
   "metadata": {},
   "outputs": [],
   "source": [
    "seat_count['Change in Seats'] = seat_count[2023] - seat_count[2022]\n",
    "\n",
    "# Pivot for heatmap\n",
    "heatmap_data = seat_count.pivot_table(index='INSTITUTE ALLOTTED', columns='SUBJECT ALLOTTED', values='Change in Seats', fill_value=0)"
   ]
  },
  {
   "cell_type": "code",
   "execution_count": null,
   "id": "36e5a1a4",
   "metadata": {},
   "outputs": [],
   "source": [
    "# Plot\n",
    "plt.figure(figsize=(15, 10))\n",
    "sns.heatmap(heatmap_data, annot=True, cmap=sns.diverging_palette(100, 15, n=5)[::-1], fmt='d', linewidths=0.5)\n",
    "plt.title('Change in Seats (2022 to 2023)')\n",
    "plt.xlabel('Subject Allocated')\n",
    "plt.ylabel('Institute Allotted')\n",
    "plt.xticks(rotation=45, ha='right')\n",
    "plt.tight_layout()\n",
    "plt.show()"
   ]
  },
  {
   "cell_type": "code",
   "execution_count": null,
   "id": "6386d0f7",
   "metadata": {},
   "outputs": [],
   "source": [
    "# Group by 'year', 'INSTITUTE ALLOTTED', and 'SUBJECT ALLOTTED'\n",
    "grouped_df = merged_df.groupby(['year', 'INSTITUTE ALLOTTED', 'SUBJECT ALLOTTED']).agg(\n",
    "    opening_merit=('AFMS Merit', 'min'),\n",
    "    closing_merit=('AFMS Merit', 'max')\n",
    ").reset_index()\n",
    "\n",
    "# Display the result\n",
    "grouped_df = grouped_df.sort_values(['SUBJECT ALLOTTED', 'INSTITUTE ALLOTTED'])\n",
    "\n",
    "clg_seat = grouped_df"
   ]
  },
  {
   "cell_type": "markdown",
   "id": "857adf32",
   "metadata": {},
   "source": [
    "## Summary of the openin and closing merit ranki wrt to subjects in institutes"
   ]
  },
  {
   "cell_type": "code",
   "execution_count": null,
   "id": "e19e375a",
   "metadata": {},
   "outputs": [],
   "source": [
    "grouped_df"
   ]
  },
  {
   "cell_type": "code",
   "execution_count": null,
   "id": "8bca4af9",
   "metadata": {},
   "outputs": [],
   "source": [
    "clg_seat['subject_institute'] = clg_seat['SUBJECT ALLOTTED'] + \"_\"+clg_seat['INSTITUTE ALLOTTED']\n",
    "plt.figure(figsize=(25, 10))\n",
    "\n",
    "# Plot Opening Rank\n",
    "sns.barplot(data=clg_seat, x='subject_institute', y='closing_merit', hue='year', palette='viridis', dodge=True)\n",
    "plt.title('Opening Rank by Subject and institute for a  Year')\n",
    "plt.xticks(rotation=90)\n",
    "plt.xlabel('Subject & Institute')\n",
    "plt.ylabel('Closing Rank')\n",
    "plt.legend(title='Year')\n",
    "plt.tight_layout()\n",
    "plt.show()"
   ]
  },
  {
   "cell_type": "code",
   "execution_count": null,
   "id": "a2d74033",
   "metadata": {},
   "outputs": [],
   "source": [
    "plt.figure(figsize=(25, 10))\n",
    "\n",
    "# Plot Opening Rank\n",
    "sns.barplot(data=clg_seat, x='subject_institute', y='opening_merit', hue='year', palette='viridis', dodge=True)\n",
    "plt.title('Opening Rank by Subject and institute for a  Year')\n",
    "plt.xticks(rotation=90)\n",
    "plt.xlabel('Subject & Institute')\n",
    "plt.ylabel('Opening Rank')\n",
    "plt.legend(title='Year')\n",
    "plt.tight_layout()\n",
    "plt.show()"
   ]
  },
  {
   "cell_type": "markdown",
   "id": "7f853e8a",
   "metadata": {},
   "source": [
    "## Opening and Closing merit rank wrt to Institute"
   ]
  },
  {
   "cell_type": "code",
   "execution_count": null,
   "id": "bf3f675a",
   "metadata": {},
   "outputs": [],
   "source": [
    "# Calculate the opening (min) and closing (max) rank for each institute for both years\n",
    "rank_summary = merged_df.groupby(['INSTITUTE ALLOTTED', 'year'])['AFMS Merit'].agg(['min', 'max']).reset_index()\n",
    "\n",
    "# Rename the columns for clarity\n",
    "rank_summary.columns = ['INSTITUTE ALLOTTED', 'Year', 'Opening Rank', 'Closing Rank']\n"
   ]
  },
  {
   "cell_type": "code",
   "execution_count": null,
   "id": "7fde723a",
   "metadata": {},
   "outputs": [],
   "source": [
    "rank_summary"
   ]
  },
  {
   "cell_type": "code",
   "execution_count": null,
   "id": "774cf761",
   "metadata": {},
   "outputs": [],
   "source": [
    "plt.figure(figsize=(14, 7))\n",
    "\n",
    "# Plot Opening Rank\n",
    "sns.barplot(data=rank_summary, x='INSTITUTE ALLOTTED', y='Opening Rank', hue='Year', palette='viridis', dodge=True)\n",
    "plt.title('Opening Rank by Institute and Year')\n",
    "plt.xticks(rotation=90)\n",
    "plt.xlabel('Institute')\n",
    "plt.ylabel('Opening Rank')\n",
    "plt.legend(title='Year')\n",
    "plt.tight_layout()\n",
    "plt.show()"
   ]
  },
  {
   "cell_type": "code",
   "execution_count": null,
   "id": "fa1c77c5",
   "metadata": {},
   "outputs": [],
   "source": [
    "# Plot Closing Rank\n",
    "plt.figure(figsize=(14, 7))\n",
    "sns.barplot(data=rank_summary, x='INSTITUTE ALLOTTED', y='Closing Rank', hue='Year', palette='viridis', dodge=True)\n",
    "plt.title('Closing Rank by Institute and Year')\n",
    "plt.xticks(rotation=90)\n",
    "plt.xlabel('Institute')\n",
    "plt.ylabel('Closing Rank')\n",
    "plt.legend(title='Year')\n",
    "plt.tight_layout()\n",
    "plt.show()"
   ]
  },
  {
   "cell_type": "markdown",
   "id": "e24fdc9e",
   "metadata": {},
   "source": [
    "## Opening and Closing rank with respect to Subject"
   ]
  },
  {
   "cell_type": "code",
   "execution_count": null,
   "id": "da444dac",
   "metadata": {},
   "outputs": [],
   "source": [
    "# Calculate the opening (min) and closing (max) rank by subject for each year\n",
    "rank_summary_by_subject = merged_df.groupby(['SUBJECT ALLOTTED', 'year'])['AFMS Merit'].agg(['min', 'max']).reset_index()\n",
    "\n",
    "# Rename columns for clarity\n",
    "rank_summary_by_subject.columns = ['Subject', 'Year', 'Opening Rank', 'Closing Rank']\n",
    "\n",
    "# Adjust the display setting to show all rows\n",
    "pd.set_option('display.max_rows', None)\n",
    "\n",
    "# Assuming the previous steps to create rank_summary_by_subject have been completed"
   ]
  },
  {
   "cell_type": "code",
   "execution_count": null,
   "id": "af4ee7dc",
   "metadata": {},
   "outputs": [],
   "source": [
    "rank_summary_by_subject"
   ]
  },
  {
   "cell_type": "code",
   "execution_count": null,
   "id": "074e3205",
   "metadata": {},
   "outputs": [],
   "source": [
    "plt.figure(figsize=(12, 6))\n",
    "\n",
    "# Plot Opening Rank\n",
    "sns.barplot(data=rank_summary_by_subject, x='Subject', y='Opening Rank', hue='Year', palette='viridis', dodge=True)\n",
    "plt.title('Opening Rank by Subject and Year')\n",
    "plt.xticks(rotation=90)\n",
    "plt.xlabel('Subject')\n",
    "plt.ylabel('Opening Rank')\n",
    "plt.legend(title='Year')\n",
    "plt.tight_layout()\n",
    "plt.show()"
   ]
  },
  {
   "cell_type": "code",
   "execution_count": null,
   "id": "496b4dfa",
   "metadata": {},
   "outputs": [],
   "source": [
    "# Plot Closing Rank\n",
    "plt.figure(figsize=(12, 6))\n",
    "sns.barplot(data=rank_summary_by_subject, x='Subject', y='Closing Rank', hue='Year', palette='viridis', dodge=True)\n",
    "plt.title('Closing Rank by Subject and Year')\n",
    "plt.xticks(rotation=90)\n",
    "plt.xlabel('Subject')\n",
    "plt.ylabel('Closing Rank')\n",
    "plt.legend(title='Year')\n",
    "plt.tight_layout()\n",
    "plt.show()"
   ]
  },
  {
   "cell_type": "markdown",
   "id": "8f9bef08",
   "metadata": {},
   "source": [
    "## Mean merit rank per institute "
   ]
  },
  {
   "cell_type": "code",
   "execution_count": null,
   "id": "ed871bbf",
   "metadata": {},
   "outputs": [],
   "source": [
    "average_merit = merged_df.groupby(['INSTITUTE ALLOTTED', 'year'])['AFMS Merit'].mean().reset_index()\n",
    "\n",
    "\n",
    "# Plotting\n",
    "plt.figure(figsize=(14, 7))\n",
    "sns.barplot(data=average_merit, x='INSTITUTE ALLOTTED', y='AFMS Merit', hue='year', palette='viridis')\n",
    "plt.title('Average AFMS Merit by Institute and Year')\n",
    "plt.xticks(rotation=90)\n",
    "plt.xlabel('Institute')\n",
    "plt.ylabel('Average AFMS Merit')\n",
    "plt.legend(title='Year')\n",
    "plt.tight_layout()\n",
    "plt.show()"
   ]
  },
  {
   "cell_type": "code",
   "execution_count": null,
   "id": "7daa2044",
   "metadata": {},
   "outputs": [],
   "source": [
    "heatmap_data = average_merit.pivot_table(index='INSTITUTE ALLOTTED', columns='year', values='AFMS Merit')\n",
    "\n",
    "# Plotting\n",
    "plt.figure(figsize=(12, 8))\n",
    "sns.heatmap(heatmap_data,fmt='.1f',annot=True, cmap='YlGnBu', linewidths=1)\n",
    "plt.title('Heatmap of Average AFMS Merit by Institute and Year')\n",
    "plt.xlabel('Year')\n",
    "plt.ylabel('Institute')\n",
    "plt.show()"
   ]
  },
  {
   "cell_type": "markdown",
   "id": "1705e4d7",
   "metadata": {},
   "source": [
    "## Distribution of Defence Service Ranks wrt to Institutes"
   ]
  },
  {
   "cell_type": "code",
   "execution_count": null,
   "id": "a659a2d2",
   "metadata": {},
   "outputs": [],
   "source": [
    "def autopct_format(pct):\n",
    "    # Exclude percentages less than 1% or adjust the threshold as needed\n",
    "    if pct == 0.0:\n",
    "        return ''  # No label for very small percentages\n",
    "    return f'{pct:.2f}%'\n",
    "\n",
    "# Compute the rank distribution\n",
    "rank_distribution = merged_df.groupby(['INSTITUTE ALLOTTED', 'year', 'RANK']).size().unstack(fill_value=0)\n",
    "\n",
    "# Plotting\n",
    "years = rank_distribution.index.get_level_values('year').unique()\n",
    "\n",
    "for year in years:\n",
    "    subset = rank_distribution.loc[(slice(None), year), :].reset_index(level=1, drop=True)\n",
    "    subset = subset.loc[subset.sum(axis=1) > 0]  # Filter out institutes with no data\n",
    "    for institute in subset.index:\n",
    "        plt.figure(figsize=(10, 7))\n",
    "        values = subset.loc[institute]\n",
    "        if values.sum() > 0:\n",
    "            plt.pie(values, labels=[label if value >= 1.0 else '' for label, value in zip(values.index, values)],\n",
    "                    autopct=autopct_format, startangle=140)\n",
    "            plt.title(f'Rank Distribution for {institute} in {year}')\n",
    "            plt.axis('equal')  # Equal aspect ratio ensures that pie is drawn as a circle.\n",
    "            plt.show()"
   ]
  },
  {
   "cell_type": "markdown",
   "id": "d49b36d6",
   "metadata": {},
   "source": [
    "## The full data set "
   ]
  },
  {
   "cell_type": "code",
   "execution_count": null,
   "id": "d9fc1d05",
   "metadata": {},
   "outputs": [],
   "source": [
    "merged_df.sort_values('AFMS Merit')"
   ]
  }
 ],
 "metadata": {
  "kernelspec": {
   "display_name": "Python 3 (ipykernel)",
   "language": "python",
   "name": "python3"
  },
  "language_info": {
   "codemirror_mode": {
    "name": "ipython",
    "version": 3
   },
   "file_extension": ".py",
   "mimetype": "text/x-python",
   "name": "python",
   "nbconvert_exporter": "python",
   "pygments_lexer": "ipython3",
   "version": "3.9.13"
  }
 },
 "nbformat": 4,
 "nbformat_minor": 5
}
